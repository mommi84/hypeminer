{
 "cells": [
  {
   "cell_type": "code",
   "execution_count": 1,
   "id": "indian-transparency",
   "metadata": {
    "scrolled": false
   },
   "outputs": [],
   "source": [
    "#!/usr/bin/env python\n",
    "from binance.client import Client\n",
    "import configparser\n",
    "import math\n",
    "\n",
    "\n",
    "class BinanceBot(object):\n",
    "\n",
    "    \"\"\"docstring for BinanceInterface\"\"\"\n",
    "    def __init__(self, crypto, fiat):\n",
    "        self.crypto = crypto\n",
    "        self.fiat = fiat\n",
    "        self.symbol = f\"{crypto}{fiat}\"\n",
    "        self.configure()\n",
    "\n",
    "    def configure(self):\n",
    "        config = configparser.ConfigParser()\n",
    "        config.read('assets/config.ini')\n",
    "        api_key = config.get('Binance', 'api_key')\n",
    "        api_secret = config.get('Binance', 'api_secret')\n",
    "        self.client = Client(api_key, api_secret)\n",
    "\n",
    "    def get_all_orders(self):\n",
    "        return self.client.get_all_orders(symbol=self.symbol)\n",
    "\n",
    "\n",
    "bot = BinanceBot('BNB', 'BUSD')"
   ]
  },
  {
   "cell_type": "code",
   "execution_count": 2,
   "id": "672616e1",
   "metadata": {},
   "outputs": [],
   "source": [
    "from datetime import datetime, timezone\n",
    "import pandas as pd\n",
    "\n",
    "data = bot.get_all_orders()\n",
    "df = pd.DataFrame(data)"
   ]
  },
  {
   "cell_type": "code",
   "execution_count": 3,
   "id": "d082ff2f",
   "metadata": {},
   "outputs": [],
   "source": [
    "df['dt'] = pd.to_datetime(df['time'], unit='ms').dt.tz_localize('UTC').dt.tz_convert('Europe/London')\n",
    "df.set_index('dt', inplace=True)\n",
    "\n",
    "df['cummulativeQuoteQty'] = df['cummulativeQuoteQty'].map(float)"
   ]
  },
  {
   "cell_type": "code",
   "execution_count": 4,
   "id": "9a317e7e",
   "metadata": {},
   "outputs": [
    {
     "data": {
      "text/html": [
       "<div>\n",
       "<style scoped>\n",
       "    .dataframe tbody tr th:only-of-type {\n",
       "        vertical-align: middle;\n",
       "    }\n",
       "\n",
       "    .dataframe tbody tr th {\n",
       "        vertical-align: top;\n",
       "    }\n",
       "\n",
       "    .dataframe thead th {\n",
       "        text-align: right;\n",
       "    }\n",
       "</style>\n",
       "<table border=\"1\" class=\"dataframe\">\n",
       "  <thead>\n",
       "    <tr style=\"text-align: right;\">\n",
       "      <th></th>\n",
       "      <th>cummulativeQuoteQty</th>\n",
       "    </tr>\n",
       "  </thead>\n",
       "  <tbody>\n",
       "    <tr>\n",
       "      <th>2021-09-20 04:02:23.944000+01:00</th>\n",
       "      <td>1.000000</td>\n",
       "    </tr>\n",
       "    <tr>\n",
       "      <th>2021-09-20 08:56:21.847000+01:00</th>\n",
       "      <td>1.019126</td>\n",
       "    </tr>\n",
       "    <tr>\n",
       "      <th>2021-09-20 12:28:23.340000+01:00</th>\n",
       "      <td>0.987726</td>\n",
       "    </tr>\n",
       "    <tr>\n",
       "      <th>2021-09-20 13:37:21.946000+01:00</th>\n",
       "      <td>1.005799</td>\n",
       "    </tr>\n",
       "    <tr>\n",
       "      <th>2021-09-20 13:46:21.934000+01:00</th>\n",
       "      <td>1.024851</td>\n",
       "    </tr>\n",
       "    <tr>\n",
       "      <th>2021-09-21 01:19:22.583000+01:00</th>\n",
       "      <td>1.044352</td>\n",
       "    </tr>\n",
       "    <tr>\n",
       "      <th>2021-09-21 22:17:22.446000+01:00</th>\n",
       "      <td>1.064753</td>\n",
       "    </tr>\n",
       "    <tr>\n",
       "      <th>2021-09-24 10:06:22.127000+01:00</th>\n",
       "      <td>1.031907</td>\n",
       "    </tr>\n",
       "    <tr>\n",
       "      <th>2021-09-24 11:52:55.290000+01:00</th>\n",
       "      <td>1.055254</td>\n",
       "    </tr>\n",
       "    <tr>\n",
       "      <th>2021-09-25 09:34:22.723000+01:00</th>\n",
       "      <td>1.073014</td>\n",
       "    </tr>\n",
       "    <tr>\n",
       "      <th>2021-09-26 08:40:22.730000+01:00</th>\n",
       "      <td>1.039160</td>\n",
       "    </tr>\n",
       "    <tr>\n",
       "      <th>2021-09-26 09:20:21.975000+01:00</th>\n",
       "      <td>1.058842</td>\n",
       "    </tr>\n",
       "    <tr>\n",
       "      <th>2021-09-26 19:20:22.672638+01:00</th>\n",
       "      <td>1.058842</td>\n",
       "    </tr>\n",
       "  </tbody>\n",
       "</table>\n",
       "</div>"
      ],
      "text/plain": [
       "                                  cummulativeQuoteQty\n",
       "2021-09-20 04:02:23.944000+01:00             1.000000\n",
       "2021-09-20 08:56:21.847000+01:00             1.019126\n",
       "2021-09-20 12:28:23.340000+01:00             0.987726\n",
       "2021-09-20 13:37:21.946000+01:00             1.005799\n",
       "2021-09-20 13:46:21.934000+01:00             1.024851\n",
       "2021-09-21 01:19:22.583000+01:00             1.044352\n",
       "2021-09-21 22:17:22.446000+01:00             1.064753\n",
       "2021-09-24 10:06:22.127000+01:00             1.031907\n",
       "2021-09-24 11:52:55.290000+01:00             1.055254\n",
       "2021-09-25 09:34:22.723000+01:00             1.073014\n",
       "2021-09-26 08:40:22.730000+01:00             1.039160\n",
       "2021-09-26 09:20:21.975000+01:00             1.058842\n",
       "2021-09-26 19:20:22.672638+01:00             1.058842"
      ]
     },
     "execution_count": 4,
     "metadata": {},
     "output_type": "execute_result"
    }
   ],
   "source": [
    "import pytz\n",
    "\n",
    "df_plot = df[\n",
    "    (df.index >= datetime(2021, 9, 16, tzinfo=timezone.utc)) & \n",
    "    (df['status'] == 'FILLED') & \n",
    "    (df['side'] == 'SELL')\n",
    "][['cummulativeQuoteQty']]\n",
    "\n",
    "its_now = pd.DataFrame(\n",
    "    [[df_plot.iloc[-1]['cummulativeQuoteQty']]], \n",
    "    columns=['cummulativeQuoteQty'],\n",
    "    index=[datetime.now(pytz.timezone('Europe/London'))]\n",
    ")\n",
    "\n",
    "df_plot = df_plot.append(its_now)\n",
    "\n",
    "stake = df_plot.iloc[0]['cummulativeQuoteQty']\n",
    "\n",
    "df_plot['cummulativeQuoteQty'] = (df_plot['cummulativeQuoteQty']) / stake\n",
    "\n",
    "df_plot"
   ]
  },
  {
   "cell_type": "code",
   "execution_count": 5,
   "id": "eade6737",
   "metadata": {},
   "outputs": [
    {
     "data": {
      "image/png": "[encoded data removed]",
      "text/plain": [
       "<Figure size 864x432 with 1 Axes>"
      ]
     },
     "metadata": {},
     "output_type": "display_data"
    }
   ],
   "source": [
    "import matplotlib.pyplot as plt\n",
    "import matplotlib.dates as mdates\n",
    "import matplotlib.ticker as plticker\n",
    "\n",
    "plt.style.use('ggplot')\n",
    "plt.rcParams[\"figure.figsize\"] = (12, 6)\n",
    "plt.gca().xaxis.set_major_formatter(mdates.DateFormatter('%Y-%m-%d\\n%H:%M'))\n",
    "\n",
    "loc = plticker.MultipleLocator(base=0.01)\n",
    "plt.gca().yaxis.set_major_locator(loc)\n",
    "\n",
    "plt.plot(df_plot.index, df_plot['cummulativeQuoteQty'], label='assets', drawstyle='steps-post')\n",
    "\n",
    "plt.legend(loc=\"best\", prop={'size': 12})\n",
    "\n",
    "plt.savefig('assets/assets.png')"
   ]
  },
  {
   "cell_type": "code",
   "execution_count": null,
   "id": "1ff75dd8",
   "metadata": {},
   "outputs": [],
   "source": []
  }
 ],
 "metadata": {
  "kernelspec": {
   "display_name": "Python 3 (ipykernel)",
   "language": "python",
   "name": "python3"
  },
  "language_info": {
   "codemirror_mode": {
    "name": "ipython",
    "version": 3
   },
   "file_extension": ".py",
   "mimetype": "text/x-python",
   "name": "python",
   "nbconvert_exporter": "python",
   "pygments_lexer": "ipython3",
   "version": "3.9.1"
  }
 },
 "nbformat": 4,
 "nbformat_minor": 5
}
