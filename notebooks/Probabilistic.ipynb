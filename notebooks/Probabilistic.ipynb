{
 "cells": [
  {
   "cell_type": "code",
   "execution_count": 1,
   "id": "floating-victorian",
   "metadata": {},
   "outputs": [],
   "source": [
    "from hypecommons import *\n",
    "from hypecommons import plot as hyplot\n",
    "\n",
    "from datetime import datetime, timedelta"
   ]
  },
  {
   "cell_type": "code",
   "execution_count": 3,
   "id": "liable-dodge",
   "metadata": {},
   "outputs": [],
   "source": [
    "freq = 1\n",
    "TARGET = 0.02"
   ]
  },
  {
   "cell_type": "code",
   "execution_count": 22,
   "id": "clean-henry",
   "metadata": {},
   "outputs": [],
   "source": [
    "df = download_history_fast('BNBBUSD', '20210101000000', freq=freq, days=150)"
   ]
  },
  {
   "cell_type": "code",
   "execution_count": 23,
   "id": "loved-florence",
   "metadata": {},
   "outputs": [
    {
     "data": {
      "text/plain": [
       "open      37.4121\n",
       "high      37.4258\n",
       "low       37.3931\n",
       "close     37.4160\n",
       "volume    91.8900\n",
       "trades    30.0000\n",
       "Name: 2021-01-01 00:00:00, dtype: float64"
      ]
     },
     "execution_count": 23,
     "metadata": {},
     "output_type": "execute_result"
    }
   ],
   "source": [
    "df.iloc[0]"
   ]
  },
  {
   "cell_type": "markdown",
   "id": "mathematical-honor",
   "metadata": {},
   "source": [
    "The question we want to answer is the following. How long does it take to reach +2% gain from now?"
   ]
  },
  {
   "cell_type": "code",
   "execution_count": 24,
   "id": "impressed-finland",
   "metadata": {},
   "outputs": [
    {
     "data": {
      "text/plain": [
       "(Timestamp('2021-01-01 10:03:00'), 603)"
      ]
     },
     "execution_count": 24,
     "metadata": {},
     "output_type": "execute_result"
    }
   ],
   "source": [
    "def minutes_to_target(df, start, target):\n",
    "    t0 = df.index[start]\n",
    "    close0 = df['close'].iloc[start]\n",
    "    try:\n",
    "        t1 = df[(df.index > t0) & (df['close'] >= (1 + target) * close0)].index[0]\n",
    "    except IndexError:\n",
    "        return None, None # it never achieves the target\n",
    "    return t1, round((t1 - t0).total_seconds() / 60.0)\n",
    "\n",
    "minutes_to_target(df, 0, target=TARGET)"
   ]
  },
  {
   "cell_type": "code",
   "execution_count": 25,
   "id": "retired-essex",
   "metadata": {},
   "outputs": [
    {
     "data": {
      "application/vnd.jupyter.widget-view+json": {
       "model_id": "23d6e24b80f2496bb833fa9a206667b4",
       "version_major": 2,
       "version_minor": 0
      },
      "text/plain": [
       "HBox(children=(FloatProgress(value=0.0, max=2154.0), HTML(value='')))"
      ]
     },
     "metadata": {},
     "output_type": "display_data"
    },
    {
     "name": "stdout",
     "output_type": "stream",
     "text": [
      "\n"
     ]
    }
   ],
   "source": [
    "from tqdm.notebook import tqdm\n",
    "\n",
    "mins2tgt = []\n",
    "\n",
    "rng = range(len(df))[::100]\n",
    "\n",
    "for i in tqdm(rng):\n",
    "    t, y = minutes_to_target(df, i, target=TARGET)\n",
    "    if y:\n",
    "        mins2tgt.append(y)"
   ]
  },
  {
   "cell_type": "code",
   "execution_count": 26,
   "id": "assured-living",
   "metadata": {},
   "outputs": [
    {
     "name": "stdout",
     "output_type": "stream",
     "text": [
      "(1312, 2068)\n"
     ]
    }
   ],
   "source": [
    "df_m = pd.DataFrame(mins2tgt)\n",
    "print((len(df_m[df_m[0] <= 600]), len(df_m)))"
   ]
  },
  {
   "cell_type": "markdown",
   "id": "owned-processing",
   "metadata": {},
   "source": [
    "In 1312 cases out of 2068 (~63%), 2% gain is reached after less than 10 hours."
   ]
  },
  {
   "cell_type": "code",
   "execution_count": 27,
   "id": "pleasant-queensland",
   "metadata": {
    "scrolled": false
   },
   "outputs": [
    {
     "name": "stdout",
     "output_type": "stream",
     "text": [
      "First 10 bins: [336. 241. 174. 125. 114.  97.  71.  61.  51.  37.]\n"
     ]
    },
    {
     "data": {
      "image/png": "[encoded data removed]",
      "text/plain": [
       "<Figure size 700x500 with 1 Axes>"
      ]
     },
     "metadata": {},
     "output_type": "display_data"
    }
   ],
   "source": [
    "import matplotlib.pyplot as plt\n",
    "\n",
    "plt.rcParams.update({'figure.figsize':(7,5), 'figure.dpi':100})\n",
    "\n",
    "hist_x, hist_y, hist_z = plt.hist(mins2tgt, bins=1000)\n",
    "\n",
    "print(f\"First 10 bins: {hist_x[:10]}\")"
   ]
  },
  {
   "cell_type": "markdown",
   "id": "sexual-degree",
   "metadata": {},
   "source": [
    "Each bin represents around 60000/1000 = 60 minutes = 1 hour of time, which means (336)/2068 = 16% of the time we reach +2% gain within 1 hour, (336+241)/2068 = 27% of the time within 2 hours, and so on."
   ]
  },
  {
   "cell_type": "code",
   "execution_count": 41,
   "id": "retained-creativity",
   "metadata": {},
   "outputs": [
    {
     "data": {
      "text/html": [
       "<div>\n",
       "<style scoped>\n",
       "    .dataframe tbody tr th:only-of-type {\n",
       "        vertical-align: middle;\n",
       "    }\n",
       "\n",
       "    .dataframe tbody tr th {\n",
       "        vertical-align: top;\n",
       "    }\n",
       "\n",
       "    .dataframe thead th {\n",
       "        text-align: right;\n",
       "    }\n",
       "</style>\n",
       "<table border=\"1\" class=\"dataframe\">\n",
       "  <thead>\n",
       "    <tr style=\"text-align: right;\">\n",
       "      <th></th>\n",
       "      <th>open_norm</th>\n",
       "      <th>high_norm</th>\n",
       "      <th>low_norm</th>\n",
       "      <th>volume_pm_ma1</th>\n",
       "      <th>volume_pm_ma3</th>\n",
       "      <th>volume_pm_ma9</th>\n",
       "      <th>trades_pm_ma1</th>\n",
       "      <th>trades_pm_ma3</th>\n",
       "      <th>trades_pm_ma9</th>\n",
       "      <th>close_ma50_norm</th>\n",
       "      <th>close_ma200_norm</th>\n",
       "      <th>close_ema12_norm</th>\n",
       "      <th>close_ema26_norm</th>\n",
       "    </tr>\n",
       "  </thead>\n",
       "  <tbody>\n",
       "    <tr>\n",
       "      <th>2021-01-01 03:19:00</th>\n",
       "      <td>0.999544</td>\n",
       "      <td>1.000000</td>\n",
       "      <td>0.999054</td>\n",
       "      <td>118.0100</td>\n",
       "      <td>87.053333</td>\n",
       "      <td>64.607778</td>\n",
       "      <td>27.0</td>\n",
       "      <td>18.666667</td>\n",
       "      <td>15.555556</td>\n",
       "      <td>0.997564</td>\n",
       "      <td>0.990276</td>\n",
       "      <td>0.998454</td>\n",
       "      <td>0.998277</td>\n",
       "    </tr>\n",
       "    <tr>\n",
       "      <th>2021-01-01 03:20:00</th>\n",
       "      <td>0.999116</td>\n",
       "      <td>1.000142</td>\n",
       "      <td>0.999116</td>\n",
       "      <td>113.5700</td>\n",
       "      <td>108.116667</td>\n",
       "      <td>76.055556</td>\n",
       "      <td>30.0</td>\n",
       "      <td>26.000000</td>\n",
       "      <td>18.333333</td>\n",
       "      <td>0.996912</td>\n",
       "      <td>0.989546</td>\n",
       "      <td>0.998005</td>\n",
       "      <td>0.997653</td>\n",
       "    </tr>\n",
       "    <tr>\n",
       "      <th>2021-01-01 03:21:00</th>\n",
       "      <td>1.000500</td>\n",
       "      <td>1.000550</td>\n",
       "      <td>1.000000</td>\n",
       "      <td>67.6100</td>\n",
       "      <td>99.730000</td>\n",
       "      <td>77.811111</td>\n",
       "      <td>9.0</td>\n",
       "      <td>22.000000</td>\n",
       "      <td>18.111111</td>\n",
       "      <td>0.997589</td>\n",
       "      <td>0.990138</td>\n",
       "      <td>0.998757</td>\n",
       "      <td>0.998313</td>\n",
       "    </tr>\n",
       "    <tr>\n",
       "      <th>2021-01-01 03:22:00</th>\n",
       "      <td>0.999816</td>\n",
       "      <td>1.000000</td>\n",
       "      <td>0.999534</td>\n",
       "      <td>80.3700</td>\n",
       "      <td>87.183333</td>\n",
       "      <td>82.741111</td>\n",
       "      <td>14.0</td>\n",
       "      <td>17.666667</td>\n",
       "      <td>18.000000</td>\n",
       "      <td>0.997192</td>\n",
       "      <td>0.989674</td>\n",
       "      <td>0.998485</td>\n",
       "      <td>0.997932</td>\n",
       "    </tr>\n",
       "    <tr>\n",
       "      <th>2021-01-01 03:23:00</th>\n",
       "      <td>1.000232</td>\n",
       "      <td>1.000487</td>\n",
       "      <td>0.999644</td>\n",
       "      <td>53.4300</td>\n",
       "      <td>67.136667</td>\n",
       "      <td>82.126667</td>\n",
       "      <td>25.0</td>\n",
       "      <td>16.000000</td>\n",
       "      <td>19.222222</td>\n",
       "      <td>0.998062</td>\n",
       "      <td>0.990486</td>\n",
       "      <td>0.999341</td>\n",
       "      <td>0.998767</td>\n",
       "    </tr>\n",
       "    <tr>\n",
       "      <th>...</th>\n",
       "      <td>...</td>\n",
       "      <td>...</td>\n",
       "      <td>...</td>\n",
       "      <td>...</td>\n",
       "      <td>...</td>\n",
       "      <td>...</td>\n",
       "      <td>...</td>\n",
       "      <td>...</td>\n",
       "      <td>...</td>\n",
       "      <td>...</td>\n",
       "      <td>...</td>\n",
       "      <td>...</td>\n",
       "      <td>...</td>\n",
       "    </tr>\n",
       "    <tr>\n",
       "      <th>2021-05-31 00:56:00</th>\n",
       "      <td>0.998772</td>\n",
       "      <td>1.000676</td>\n",
       "      <td>0.998434</td>\n",
       "      <td>175.7773</td>\n",
       "      <td>215.617600</td>\n",
       "      <td>295.126289</td>\n",
       "      <td>107.0</td>\n",
       "      <td>122.333333</td>\n",
       "      <td>151.888889</td>\n",
       "      <td>1.001310</td>\n",
       "      <td>1.010835</td>\n",
       "      <td>0.999641</td>\n",
       "      <td>1.000626</td>\n",
       "    </tr>\n",
       "    <tr>\n",
       "      <th>2021-05-31 00:57:00</th>\n",
       "      <td>0.998498</td>\n",
       "      <td>1.000521</td>\n",
       "      <td>0.998498</td>\n",
       "      <td>137.2728</td>\n",
       "      <td>160.450300</td>\n",
       "      <td>260.245622</td>\n",
       "      <td>127.0</td>\n",
       "      <td>111.333333</td>\n",
       "      <td>143.777778</td>\n",
       "      <td>0.999698</td>\n",
       "      <td>1.009088</td>\n",
       "      <td>0.998322</td>\n",
       "      <td>0.999074</td>\n",
       "    </tr>\n",
       "    <tr>\n",
       "      <th>2021-05-31 00:58:00</th>\n",
       "      <td>1.000245</td>\n",
       "      <td>1.000307</td>\n",
       "      <td>0.998651</td>\n",
       "      <td>92.0236</td>\n",
       "      <td>135.024567</td>\n",
       "      <td>234.063278</td>\n",
       "      <td>76.0</td>\n",
       "      <td>103.333333</td>\n",
       "      <td>136.111111</td>\n",
       "      <td>0.999543</td>\n",
       "      <td>1.008746</td>\n",
       "      <td>0.998373</td>\n",
       "      <td>0.998916</td>\n",
       "    </tr>\n",
       "    <tr>\n",
       "      <th>2021-05-31 00:59:00</th>\n",
       "      <td>1.000951</td>\n",
       "      <td>1.001166</td>\n",
       "      <td>0.999018</td>\n",
       "      <td>425.4814</td>\n",
       "      <td>218.259267</td>\n",
       "      <td>246.166967</td>\n",
       "      <td>102.0</td>\n",
       "      <td>101.666667</td>\n",
       "      <td>126.888889</td>\n",
       "      <td>1.000659</td>\n",
       "      <td>1.009697</td>\n",
       "      <td>0.999505</td>\n",
       "      <td>0.999961</td>\n",
       "    </tr>\n",
       "    <tr>\n",
       "      <th>2021-05-31 01:00:00</th>\n",
       "      <td>1.007296</td>\n",
       "      <td>1.007296</td>\n",
       "      <td>0.999320</td>\n",
       "      <td>1230.1234</td>\n",
       "      <td>582.542800</td>\n",
       "      <td>365.265444</td>\n",
       "      <td>762.0</td>\n",
       "      <td>313.333333</td>\n",
       "      <td>203.777778</td>\n",
       "      <td>1.007929</td>\n",
       "      <td>1.017054</td>\n",
       "      <td>1.005856</td>\n",
       "      <td>1.006833</td>\n",
       "    </tr>\n",
       "  </tbody>\n",
       "</table>\n",
       "<p>215199 rows × 13 columns</p>\n",
       "</div>"
      ],
      "text/plain": [
       "                     open_norm  high_norm  low_norm  volume_pm_ma1  \\\n",
       "2021-01-01 03:19:00   0.999544   1.000000  0.999054       118.0100   \n",
       "2021-01-01 03:20:00   0.999116   1.000142  0.999116       113.5700   \n",
       "2021-01-01 03:21:00   1.000500   1.000550  1.000000        67.6100   \n",
       "2021-01-01 03:22:00   0.999816   1.000000  0.999534        80.3700   \n",
       "2021-01-01 03:23:00   1.000232   1.000487  0.999644        53.4300   \n",
       "...                        ...        ...       ...            ...   \n",
       "2021-05-31 00:56:00   0.998772   1.000676  0.998434       175.7773   \n",
       "2021-05-31 00:57:00   0.998498   1.000521  0.998498       137.2728   \n",
       "2021-05-31 00:58:00   1.000245   1.000307  0.998651        92.0236   \n",
       "2021-05-31 00:59:00   1.000951   1.001166  0.999018       425.4814   \n",
       "2021-05-31 01:00:00   1.007296   1.007296  0.999320      1230.1234   \n",
       "\n",
       "                     volume_pm_ma3  volume_pm_ma9  trades_pm_ma1  \\\n",
       "2021-01-01 03:19:00      87.053333      64.607778           27.0   \n",
       "2021-01-01 03:20:00     108.116667      76.055556           30.0   \n",
       "2021-01-01 03:21:00      99.730000      77.811111            9.0   \n",
       "2021-01-01 03:22:00      87.183333      82.741111           14.0   \n",
       "2021-01-01 03:23:00      67.136667      82.126667           25.0   \n",
       "...                            ...            ...            ...   \n",
       "2021-05-31 00:56:00     215.617600     295.126289          107.0   \n",
       "2021-05-31 00:57:00     160.450300     260.245622          127.0   \n",
       "2021-05-31 00:58:00     135.024567     234.063278           76.0   \n",
       "2021-05-31 00:59:00     218.259267     246.166967          102.0   \n",
       "2021-05-31 01:00:00     582.542800     365.265444          762.0   \n",
       "\n",
       "                     trades_pm_ma3  trades_pm_ma9  close_ma50_norm  \\\n",
       "2021-01-01 03:19:00      18.666667      15.555556         0.997564   \n",
       "2021-01-01 03:20:00      26.000000      18.333333         0.996912   \n",
       "2021-01-01 03:21:00      22.000000      18.111111         0.997589   \n",
       "2021-01-01 03:22:00      17.666667      18.000000         0.997192   \n",
       "2021-01-01 03:23:00      16.000000      19.222222         0.998062   \n",
       "...                            ...            ...              ...   \n",
       "2021-05-31 00:56:00     122.333333     151.888889         1.001310   \n",
       "2021-05-31 00:57:00     111.333333     143.777778         0.999698   \n",
       "2021-05-31 00:58:00     103.333333     136.111111         0.999543   \n",
       "2021-05-31 00:59:00     101.666667     126.888889         1.000659   \n",
       "2021-05-31 01:00:00     313.333333     203.777778         1.007929   \n",
       "\n",
       "                     close_ma200_norm  close_ema12_norm  close_ema26_norm  \n",
       "2021-01-01 03:19:00          0.990276          0.998454          0.998277  \n",
       "2021-01-01 03:20:00          0.989546          0.998005          0.997653  \n",
       "2021-01-01 03:21:00          0.990138          0.998757          0.998313  \n",
       "2021-01-01 03:22:00          0.989674          0.998485          0.997932  \n",
       "2021-01-01 03:23:00          0.990486          0.999341          0.998767  \n",
       "...                               ...               ...               ...  \n",
       "2021-05-31 00:56:00          1.010835          0.999641          1.000626  \n",
       "2021-05-31 00:57:00          1.009088          0.998322          0.999074  \n",
       "2021-05-31 00:58:00          1.008746          0.998373          0.998916  \n",
       "2021-05-31 00:59:00          1.009697          0.999505          0.999961  \n",
       "2021-05-31 01:00:00          1.017054          1.005856          1.006833  \n",
       "\n",
       "[215199 rows x 13 columns]"
      ]
     },
     "execution_count": 41,
     "metadata": {},
     "output_type": "execute_result"
    }
   ],
   "source": [
    "def ema(data, n):\n",
    "    alpha = 2 / (1 + n)\n",
    "    return data.ewm(alpha=alpha, adjust=False).mean()\n",
    "\n",
    "def normalise(df_orig):\n",
    "    df = df_orig.copy()\n",
    "    \n",
    "    fields = list(df)\n",
    "    \n",
    "    for field in fields:\n",
    "        if field in ['volume', 'trades']:\n",
    "            for ma in [1, 3, 9]:\n",
    "                df[f\"{field}_pm_ma{ma}\"] = df[field].rolling(window=ma).mean() / freq\n",
    "        else:\n",
    "            if field != 'close':\n",
    "                df[f\"{field}_norm\"] = df[field] / df['close']\n",
    "\n",
    "        if field != 'close':\n",
    "            df.drop(field, axis=1, inplace=True)\n",
    "    \n",
    "    for x in [50, 200]:\n",
    "        df[f\"close_ma{x}_norm\"] = df['close'].rolling(window=x).mean() / df['close']\n",
    "    \n",
    "    for x in [12, 26]:\n",
    "        df[f\"close_ema{x}_norm\"] = ema(df['close'], x) / df['close']\n",
    "    \n",
    "    df.drop('close', axis=1, inplace=True)\n",
    "    df.dropna(inplace=True)\n",
    "    return df\n",
    "\n",
    "df_n = normalise(df)\n",
    "df_n"
   ]
  },
  {
   "cell_type": "code",
   "execution_count": null,
   "id": "alone-hotel",
   "metadata": {},
   "outputs": [],
   "source": []
  }
 ],
 "metadata": {
  "kernelspec": {
   "display_name": "Python 3",
   "language": "python",
   "name": "python3"
  },
  "language_info": {
   "codemirror_mode": {
    "name": "ipython",
    "version": 3
   },
   "file_extension": ".py",
   "mimetype": "text/x-python",
   "name": "python",
   "nbconvert_exporter": "python",
   "pygments_lexer": "ipython3",
   "version": "3.7.8"
  }
 },
 "nbformat": 4,
 "nbformat_minor": 5
}
