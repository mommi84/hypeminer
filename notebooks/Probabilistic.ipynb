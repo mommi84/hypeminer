{
 "cells": [
  {
   "cell_type": "markdown",
   "id": "mathematical-honor",
   "metadata": {},
   "source": [
    "# Probabilistic Signal Estimator\n",
    "\n",
    "The question we want to answer is the following. How long does it take to reach +2% gain from now?"
   ]
  },
  {
   "cell_type": "code",
   "execution_count": 56,
   "id": "floating-victorian",
   "metadata": {},
   "outputs": [],
   "source": [
    "from hypecommons import *\n",
    "from hypecommons import plot as hyplot\n",
    "\n",
    "from datetime import datetime, timedelta"
   ]
  },
  {
   "cell_type": "code",
   "execution_count": 59,
   "id": "liable-dodge",
   "metadata": {},
   "outputs": [],
   "source": [
    "SYMBOL = 'BNBBUSD'\n",
    "FREQ = 1\n",
    "START = '20210101000000'\n",
    "TARGET = 1.02\n",
    "DAYS = 150"
   ]
  },
  {
   "cell_type": "code",
   "execution_count": 60,
   "id": "clean-henry",
   "metadata": {},
   "outputs": [],
   "source": [
    "df = download_history_fast(SYMBOL, START, freq=FREQ, days=DAYS)"
   ]
  },
  {
   "cell_type": "code",
   "execution_count": 61,
   "id": "loved-florence",
   "metadata": {},
   "outputs": [
    {
     "name": "stdout",
     "output_type": "stream",
     "text": [
      "open      37.4121\n",
      "high      37.4258\n",
      "low       37.3931\n",
      "close     37.4160\n",
      "volume    91.8900\n",
      "trades    30.0000\n",
      "Name: 2021-01-01 00:00:00, dtype: float64\n",
      "\n",
      "open       325.8400\n",
      "high       325.8400\n",
      "low        323.2600\n",
      "close      323.4800\n",
      "volume    1230.1234\n",
      "trades     762.0000\n",
      "Name: 2021-05-31 01:00:00, dtype: float64\n"
     ]
    }
   ],
   "source": [
    "print(str(df.iloc[0]) + '\\n\\n' + str(df.iloc[-1]))"
   ]
  },
  {
   "cell_type": "markdown",
   "id": "earlier-direction",
   "metadata": {},
   "source": [
    "As the goal is to achieve a given value, the `high` price value is used. Binance allows users to create future orders with a limit, therefore this behaviour can be reproduced also in a real-time setting."
   ]
  },
  {
   "cell_type": "code",
   "execution_count": 62,
   "id": "impressed-finland",
   "metadata": {},
   "outputs": [],
   "source": [
    "def minutes_to_target(df, start, target):\n",
    "    t0 = df.index[start]\n",
    "    close0 = df['close'].iloc[start]\n",
    "    try:\n",
    "        t1 = df[(df.index > t0) & (df['high'] >= target * close0)].index[0]\n",
    "    except IndexError:\n",
    "        return None, None # it never achieves the target\n",
    "    return t1, round((t1 - t0).total_seconds() / 60.0)"
   ]
  },
  {
   "cell_type": "code",
   "execution_count": 63,
   "id": "directed-humor",
   "metadata": {},
   "outputs": [
    {
     "name": "stdout",
     "output_type": "stream",
     "text": [
      "(Timestamp('2021-01-01 04:30:00'), 270)\n"
     ]
    },
    {
     "data": {
      "text/plain": [
       "1.0203175112251444"
      ]
     },
     "execution_count": 63,
     "metadata": {},
     "output_type": "execute_result"
    }
   ],
   "source": [
    "x0 = minutes_to_target(df, 0, target=TARGET)\n",
    "print(x0)\n",
    "df.iloc[int(x0[1]/FREQ)]['high'] / df.iloc[0]['close']"
   ]
  },
  {
   "cell_type": "code",
   "execution_count": 64,
   "id": "retired-essex",
   "metadata": {},
   "outputs": [
    {
     "name": "stderr",
     "output_type": "stream",
     "text": [
      "100%|██████████| 2154/2154 [00:07<00:00, 272.26it/s]\n"
     ]
    }
   ],
   "source": [
    "mins2tgt = []\n",
    "\n",
    "rng = range(len(df))[::100]\n",
    "\n",
    "for i in tqdm(rng):\n",
    "    t, y = minutes_to_target(df, i, target=TARGET)\n",
    "    if y:\n",
    "        mins2tgt.append(y)"
   ]
  },
  {
   "cell_type": "code",
   "execution_count": 74,
   "id": "assured-living",
   "metadata": {
    "scrolled": true
   },
   "outputs": [
    {
     "name": "stdout",
     "output_type": "stream",
     "text": [
      "In 1351 cases out of 2071 (~65%), 2% gain is reached after less than 10 hours.\n"
     ]
    }
   ],
   "source": [
    "df_m = pd.DataFrame(mins2tgt)\n",
    "pos, total = len(df_m[df_m[0] <= 600]), len(df_m)\n",
    "print(f\"In {pos} cases out of {total} (~{pos/total*100:.0f}%), 2% gain is reached after less than 10 hours.\")"
   ]
  },
  {
   "cell_type": "code",
   "execution_count": 88,
   "id": "pleasant-queensland",
   "metadata": {
    "scrolled": false
   },
   "outputs": [
    {
     "name": "stdout",
     "output_type": "stream",
     "text": [
      "First 10 bins: [1038.  310.  138.  100.   63.   64.   41.   26.   28.   25.]\n"
     ]
    },
    {
     "data": {
      "image/png": "[encoded data removed]",
      "text/plain": [
       "<Figure size 700x500 with 1 Axes>"
      ]
     },
     "metadata": {},
     "output_type": "display_data"
    }
   ],
   "source": [
    "import matplotlib.pyplot as plt\n",
    "\n",
    "plt.rcParams.update({'figure.figsize': (7,5), 'figure.dpi': 100})\n",
    "\n",
    "n_bins = 200\n",
    "hist_x, hist_y, hist_z = plt.hist(mins2tgt, bins=n_bins)\n",
    "\n",
    "print(f\"First 10 bins: {hist_x[:10]}\")"
   ]
  },
  {
   "cell_type": "code",
   "execution_count": 84,
   "id": "lovely-training",
   "metadata": {},
   "outputs": [
    {
     "name": "stdout",
     "output_type": "stream",
     "text": [
      "Each bin represents around 60000/200 = 300.0 minutes = 5.0 hours of time,\n",
      "which means 50.1% of the time we reach +2% gain within 5.0 hours,\n",
      "65.1% of the time within 10.0 hours, and so on.\n"
     ]
    }
   ],
   "source": [
    "print(f\"Each bin represents around 60000/{n_bins} = {60000/n_bins} minutes = {60000/n_bins/60} hours of time,\\n\"\n",
    "      f\"which means {sum(hist_x[:1])/len(mins2tgt)*100:.1f}% of the time we reach +2% gain within {60000/n_bins/60} hours,\\n\"\n",
    "      f\"{sum(hist_x[:2])/len(mins2tgt)*100:.1f}% of the time within {2*60000/n_bins/60} hours, and so on.\")\n"
   ]
  },
  {
   "cell_type": "code",
   "execution_count": 91,
   "id": "retained-creativity",
   "metadata": {},
   "outputs": [
    {
     "data": {
      "text/html": [
       "<div>\n",
       "<style scoped>\n",
       "    .dataframe tbody tr th:only-of-type {\n",
       "        vertical-align: middle;\n",
       "    }\n",
       "\n",
       "    .dataframe tbody tr th {\n",
       "        vertical-align: top;\n",
       "    }\n",
       "\n",
       "    .dataframe thead th {\n",
       "        text-align: right;\n",
       "    }\n",
       "</style>\n",
       "<table border=\"1\" class=\"dataframe\">\n",
       "  <thead>\n",
       "    <tr style=\"text-align: right;\">\n",
       "      <th></th>\n",
       "      <th>open_norm</th>\n",
       "      <th>high_norm</th>\n",
       "      <th>low_norm</th>\n",
       "      <th>volume_pm_ma1</th>\n",
       "      <th>volume_pm_ma3</th>\n",
       "      <th>volume_pm_ma9</th>\n",
       "      <th>trades_pm_ma1</th>\n",
       "      <th>trades_pm_ma3</th>\n",
       "      <th>trades_pm_ma9</th>\n",
       "      <th>close_ma50_norm</th>\n",
       "      <th>close_ma200_norm</th>\n",
       "      <th>close_ema12_norm</th>\n",
       "      <th>close_ema26_norm</th>\n",
       "    </tr>\n",
       "  </thead>\n",
       "  <tbody>\n",
       "    <tr>\n",
       "      <th>2021-01-01 00:00:00</th>\n",
       "      <td>0.999896</td>\n",
       "      <td>1.000262</td>\n",
       "      <td>0.999388</td>\n",
       "      <td>18.37800</td>\n",
       "      <td>NaN</td>\n",
       "      <td>NaN</td>\n",
       "      <td>6.0</td>\n",
       "      <td>NaN</td>\n",
       "      <td>NaN</td>\n",
       "      <td>NaN</td>\n",
       "      <td>NaN</td>\n",
       "      <td>1.000000</td>\n",
       "      <td>1.000000</td>\n",
       "    </tr>\n",
       "    <tr>\n",
       "      <th>2021-01-01 00:01:00</th>\n",
       "      <td>0.999650</td>\n",
       "      <td>1.000922</td>\n",
       "      <td>0.999164</td>\n",
       "      <td>61.89600</td>\n",
       "      <td>NaN</td>\n",
       "      <td>NaN</td>\n",
       "      <td>10.6</td>\n",
       "      <td>NaN</td>\n",
       "      <td>NaN</td>\n",
       "      <td>NaN</td>\n",
       "      <td>NaN</td>\n",
       "      <td>0.999543</td>\n",
       "      <td>0.999500</td>\n",
       "    </tr>\n",
       "    <tr>\n",
       "      <th>2021-01-01 00:02:00</th>\n",
       "      <td>1.001281</td>\n",
       "      <td>1.001313</td>\n",
       "      <td>0.999243</td>\n",
       "      <td>118.39200</td>\n",
       "      <td>66.222000</td>\n",
       "      <td>NaN</td>\n",
       "      <td>11.2</td>\n",
       "      <td>9.266667</td>\n",
       "      <td>NaN</td>\n",
       "      <td>NaN</td>\n",
       "      <td>NaN</td>\n",
       "      <td>1.000502</td>\n",
       "      <td>1.000510</td>\n",
       "    </tr>\n",
       "    <tr>\n",
       "      <th>2021-01-01 00:03:00</th>\n",
       "      <td>1.001202</td>\n",
       "      <td>1.001202</td>\n",
       "      <td>1.000000</td>\n",
       "      <td>78.21200</td>\n",
       "      <td>86.166667</td>\n",
       "      <td>NaN</td>\n",
       "      <td>10.8</td>\n",
       "      <td>10.866667</td>\n",
       "      <td>NaN</td>\n",
       "      <td>NaN</td>\n",
       "      <td>NaN</td>\n",
       "      <td>1.001720</td>\n",
       "      <td>1.001889</td>\n",
       "    </tr>\n",
       "    <tr>\n",
       "      <th>2021-01-01 00:04:00</th>\n",
       "      <td>1.000179</td>\n",
       "      <td>1.000715</td>\n",
       "      <td>0.999587</td>\n",
       "      <td>43.24000</td>\n",
       "      <td>79.948000</td>\n",
       "      <td>NaN</td>\n",
       "      <td>9.8</td>\n",
       "      <td>10.600000</td>\n",
       "      <td>NaN</td>\n",
       "      <td>NaN</td>\n",
       "      <td>NaN</td>\n",
       "      <td>1.001646</td>\n",
       "      <td>1.001958</td>\n",
       "    </tr>\n",
       "    <tr>\n",
       "      <th>...</th>\n",
       "      <td>...</td>\n",
       "      <td>...</td>\n",
       "      <td>...</td>\n",
       "      <td>...</td>\n",
       "      <td>...</td>\n",
       "      <td>...</td>\n",
       "      <td>...</td>\n",
       "      <td>...</td>\n",
       "      <td>...</td>\n",
       "      <td>...</td>\n",
       "      <td>...</td>\n",
       "      <td>...</td>\n",
       "      <td>...</td>\n",
       "    </tr>\n",
       "    <tr>\n",
       "      <th>2021-05-31 00:56:00</th>\n",
       "      <td>0.998772</td>\n",
       "      <td>1.000676</td>\n",
       "      <td>0.998434</td>\n",
       "      <td>35.15546</td>\n",
       "      <td>43.123520</td>\n",
       "      <td>59.025258</td>\n",
       "      <td>21.4</td>\n",
       "      <td>24.466667</td>\n",
       "      <td>30.377778</td>\n",
       "      <td>1.001310</td>\n",
       "      <td>1.010835</td>\n",
       "      <td>0.999641</td>\n",
       "      <td>1.000626</td>\n",
       "    </tr>\n",
       "    <tr>\n",
       "      <th>2021-05-31 00:57:00</th>\n",
       "      <td>0.998498</td>\n",
       "      <td>1.000521</td>\n",
       "      <td>0.998498</td>\n",
       "      <td>27.45456</td>\n",
       "      <td>32.090060</td>\n",
       "      <td>52.049124</td>\n",
       "      <td>25.4</td>\n",
       "      <td>22.266667</td>\n",
       "      <td>28.755556</td>\n",
       "      <td>0.999698</td>\n",
       "      <td>1.009088</td>\n",
       "      <td>0.998322</td>\n",
       "      <td>0.999074</td>\n",
       "    </tr>\n",
       "    <tr>\n",
       "      <th>2021-05-31 00:58:00</th>\n",
       "      <td>1.000245</td>\n",
       "      <td>1.000307</td>\n",
       "      <td>0.998651</td>\n",
       "      <td>18.40472</td>\n",
       "      <td>27.004913</td>\n",
       "      <td>46.812656</td>\n",
       "      <td>15.2</td>\n",
       "      <td>20.666667</td>\n",
       "      <td>27.222222</td>\n",
       "      <td>0.999543</td>\n",
       "      <td>1.008746</td>\n",
       "      <td>0.998373</td>\n",
       "      <td>0.998916</td>\n",
       "    </tr>\n",
       "    <tr>\n",
       "      <th>2021-05-31 00:59:00</th>\n",
       "      <td>1.000951</td>\n",
       "      <td>1.001166</td>\n",
       "      <td>0.999018</td>\n",
       "      <td>85.09628</td>\n",
       "      <td>43.651853</td>\n",
       "      <td>49.233393</td>\n",
       "      <td>20.4</td>\n",
       "      <td>20.333333</td>\n",
       "      <td>25.377778</td>\n",
       "      <td>1.000659</td>\n",
       "      <td>1.009697</td>\n",
       "      <td>0.999505</td>\n",
       "      <td>0.999961</td>\n",
       "    </tr>\n",
       "    <tr>\n",
       "      <th>2021-05-31 01:00:00</th>\n",
       "      <td>1.007296</td>\n",
       "      <td>1.007296</td>\n",
       "      <td>0.999320</td>\n",
       "      <td>246.02468</td>\n",
       "      <td>116.508560</td>\n",
       "      <td>73.053089</td>\n",
       "      <td>152.4</td>\n",
       "      <td>62.666667</td>\n",
       "      <td>40.755556</td>\n",
       "      <td>1.007929</td>\n",
       "      <td>1.017054</td>\n",
       "      <td>1.005856</td>\n",
       "      <td>1.006833</td>\n",
       "    </tr>\n",
       "  </tbody>\n",
       "</table>\n",
       "<p>215398 rows × 13 columns</p>\n",
       "</div>"
      ],
      "text/plain": [
       "                     open_norm  high_norm  low_norm  volume_pm_ma1  \\\n",
       "2021-01-01 00:00:00   0.999896   1.000262  0.999388       18.37800   \n",
       "2021-01-01 00:01:00   0.999650   1.000922  0.999164       61.89600   \n",
       "2021-01-01 00:02:00   1.001281   1.001313  0.999243      118.39200   \n",
       "2021-01-01 00:03:00   1.001202   1.001202  1.000000       78.21200   \n",
       "2021-01-01 00:04:00   1.000179   1.000715  0.999587       43.24000   \n",
       "...                        ...        ...       ...            ...   \n",
       "2021-05-31 00:56:00   0.998772   1.000676  0.998434       35.15546   \n",
       "2021-05-31 00:57:00   0.998498   1.000521  0.998498       27.45456   \n",
       "2021-05-31 00:58:00   1.000245   1.000307  0.998651       18.40472   \n",
       "2021-05-31 00:59:00   1.000951   1.001166  0.999018       85.09628   \n",
       "2021-05-31 01:00:00   1.007296   1.007296  0.999320      246.02468   \n",
       "\n",
       "                     volume_pm_ma3  volume_pm_ma9  trades_pm_ma1  \\\n",
       "2021-01-01 00:00:00            NaN            NaN            6.0   \n",
       "2021-01-01 00:01:00            NaN            NaN           10.6   \n",
       "2021-01-01 00:02:00      66.222000            NaN           11.2   \n",
       "2021-01-01 00:03:00      86.166667            NaN           10.8   \n",
       "2021-01-01 00:04:00      79.948000            NaN            9.8   \n",
       "...                            ...            ...            ...   \n",
       "2021-05-31 00:56:00      43.123520      59.025258           21.4   \n",
       "2021-05-31 00:57:00      32.090060      52.049124           25.4   \n",
       "2021-05-31 00:58:00      27.004913      46.812656           15.2   \n",
       "2021-05-31 00:59:00      43.651853      49.233393           20.4   \n",
       "2021-05-31 01:00:00     116.508560      73.053089          152.4   \n",
       "\n",
       "                     trades_pm_ma3  trades_pm_ma9  close_ma50_norm  \\\n",
       "2021-01-01 00:00:00            NaN            NaN              NaN   \n",
       "2021-01-01 00:01:00            NaN            NaN              NaN   \n",
       "2021-01-01 00:02:00       9.266667            NaN              NaN   \n",
       "2021-01-01 00:03:00      10.866667            NaN              NaN   \n",
       "2021-01-01 00:04:00      10.600000            NaN              NaN   \n",
       "...                            ...            ...              ...   \n",
       "2021-05-31 00:56:00      24.466667      30.377778         1.001310   \n",
       "2021-05-31 00:57:00      22.266667      28.755556         0.999698   \n",
       "2021-05-31 00:58:00      20.666667      27.222222         0.999543   \n",
       "2021-05-31 00:59:00      20.333333      25.377778         1.000659   \n",
       "2021-05-31 01:00:00      62.666667      40.755556         1.007929   \n",
       "\n",
       "                     close_ma200_norm  close_ema12_norm  close_ema26_norm  \n",
       "2021-01-01 00:00:00               NaN          1.000000          1.000000  \n",
       "2021-01-01 00:01:00               NaN          0.999543          0.999500  \n",
       "2021-01-01 00:02:00               NaN          1.000502          1.000510  \n",
       "2021-01-01 00:03:00               NaN          1.001720          1.001889  \n",
       "2021-01-01 00:04:00               NaN          1.001646          1.001958  \n",
       "...                               ...               ...               ...  \n",
       "2021-05-31 00:56:00          1.010835          0.999641          1.000626  \n",
       "2021-05-31 00:57:00          1.009088          0.998322          0.999074  \n",
       "2021-05-31 00:58:00          1.008746          0.998373          0.998916  \n",
       "2021-05-31 00:59:00          1.009697          0.999505          0.999961  \n",
       "2021-05-31 01:00:00          1.017054          1.005856          1.006833  \n",
       "\n",
       "[215398 rows x 13 columns]"
      ]
     },
     "execution_count": 91,
     "metadata": {},
     "output_type": "execute_result"
    }
   ],
   "source": [
    "def ema(data, n):\n",
    "    alpha = 2 / (1 + n)\n",
    "    return data.ewm(alpha=alpha, adjust=False).mean()\n",
    "\n",
    "def normalise(df_orig):\n",
    "    df = df_orig.copy()\n",
    "    \n",
    "    fields = list(df)\n",
    "    \n",
    "    for field in fields:\n",
    "        if field in ['volume', 'trades']:\n",
    "            for ma in [1, 3, 9]:\n",
    "                df[f\"{field}_pm_ma{ma}\"] = df[field].rolling(window=ma).mean() / freq\n",
    "        else:\n",
    "            if field != 'close':\n",
    "                df[f\"{field}_norm\"] = df[field] / df['close']\n",
    "\n",
    "        if field != 'close':\n",
    "            df.drop(field, axis=1, inplace=True)\n",
    "    \n",
    "    for x in [50, 200]:\n",
    "        df[f\"close_ma{x}_norm\"] = df['close'].rolling(window=x).mean() / df['close']\n",
    "    \n",
    "    for x in [12, 26]:\n",
    "        df[f\"close_ema{x}_norm\"] = ema(df['close'], x) / df['close']\n",
    "    \n",
    "    df.drop('close', axis=1, inplace=True)\n",
    "    return df\n",
    "\n",
    "df_n = normalise(df)\n",
    "df_n"
   ]
  },
  {
   "cell_type": "code",
   "execution_count": 94,
   "id": "alone-hotel",
   "metadata": {},
   "outputs": [
    {
     "name": "stderr",
     "output_type": "stream",
     "text": [
      "  2%|▏         | 4770/215398 [00:24<13:36, 258.10it/s]"
     ]
    },
    {
     "ename": "KeyboardInterrupt",
     "evalue": "",
     "output_type": "error",
     "traceback": [
      "\u001b[0;31m---------------------------------------------------------------------------\u001b[0m",
      "\u001b[0;31mKeyboardInterrupt\u001b[0m                         Traceback (most recent call last)",
      "\u001b[0;32m<ipython-input-94-6a49639d441a>\u001b[0m in \u001b[0;36m<module>\u001b[0;34m\u001b[0m\n\u001b[1;32m      9\u001b[0m \u001b[0;34m\u001b[0m\u001b[0m\n\u001b[1;32m     10\u001b[0m \u001b[0;34m\u001b[0m\u001b[0m\n\u001b[0;32m---> 11\u001b[0;31m \u001b[0mmins2tgt\u001b[0m \u001b[0;34m=\u001b[0m \u001b[0mParallel\u001b[0m\u001b[0;34m(\u001b[0m\u001b[0mn_jobs\u001b[0m\u001b[0;34m=\u001b[0m\u001b[0;36m6\u001b[0m\u001b[0;34m)\u001b[0m\u001b[0;34m(\u001b[0m\u001b[0mdelayed\u001b[0m\u001b[0;34m(\u001b[0m\u001b[0mcompute_mins\u001b[0m\u001b[0;34m)\u001b[0m\u001b[0;34m(\u001b[0m\u001b[0mi\u001b[0m\u001b[0;34m)\u001b[0m \u001b[0;32mfor\u001b[0m \u001b[0mi\u001b[0m \u001b[0;32min\u001b[0m \u001b[0mtqdm\u001b[0m\u001b[0;34m(\u001b[0m\u001b[0mrange\u001b[0m\u001b[0;34m(\u001b[0m\u001b[0mlen\u001b[0m\u001b[0;34m(\u001b[0m\u001b[0mdf\u001b[0m\u001b[0;34m)\u001b[0m\u001b[0;34m)\u001b[0m\u001b[0;34m)\u001b[0m\u001b[0;34m)\u001b[0m\u001b[0;34m\u001b[0m\u001b[0;34m\u001b[0m\u001b[0m\n\u001b[0m\u001b[1;32m     12\u001b[0m \u001b[0;34m\u001b[0m\u001b[0m\n\u001b[1;32m     13\u001b[0m \u001b[0mdf_n\u001b[0m\u001b[0;34m[\u001b[0m\u001b[0;34m'mins2tgt'\u001b[0m\u001b[0;34m]\u001b[0m \u001b[0;34m=\u001b[0m \u001b[0mmins2tgt\u001b[0m\u001b[0;34m\u001b[0m\u001b[0;34m\u001b[0m\u001b[0m\n",
      "\u001b[0;32m/usr/local/lib/python3.8/site-packages/joblib/parallel.py\u001b[0m in \u001b[0;36m__call__\u001b[0;34m(self, iterable)\u001b[0m\n\u001b[1;32m   1052\u001b[0m \u001b[0;34m\u001b[0m\u001b[0m\n\u001b[1;32m   1053\u001b[0m             \u001b[0;32mwith\u001b[0m \u001b[0mself\u001b[0m\u001b[0;34m.\u001b[0m\u001b[0m_backend\u001b[0m\u001b[0;34m.\u001b[0m\u001b[0mretrieval_context\u001b[0m\u001b[0;34m(\u001b[0m\u001b[0;34m)\u001b[0m\u001b[0;34m:\u001b[0m\u001b[0;34m\u001b[0m\u001b[0;34m\u001b[0m\u001b[0m\n\u001b[0;32m-> 1054\u001b[0;31m                 \u001b[0mself\u001b[0m\u001b[0;34m.\u001b[0m\u001b[0mretrieve\u001b[0m\u001b[0;34m(\u001b[0m\u001b[0;34m)\u001b[0m\u001b[0;34m\u001b[0m\u001b[0;34m\u001b[0m\u001b[0m\n\u001b[0m\u001b[1;32m   1055\u001b[0m             \u001b[0;31m# Make sure that we get a last message telling us we are done\u001b[0m\u001b[0;34m\u001b[0m\u001b[0;34m\u001b[0m\u001b[0;34m\u001b[0m\u001b[0m\n\u001b[1;32m   1056\u001b[0m             \u001b[0melapsed_time\u001b[0m \u001b[0;34m=\u001b[0m \u001b[0mtime\u001b[0m\u001b[0;34m.\u001b[0m\u001b[0mtime\u001b[0m\u001b[0;34m(\u001b[0m\u001b[0;34m)\u001b[0m \u001b[0;34m-\u001b[0m \u001b[0mself\u001b[0m\u001b[0;34m.\u001b[0m\u001b[0m_start_time\u001b[0m\u001b[0;34m\u001b[0m\u001b[0;34m\u001b[0m\u001b[0m\n",
      "\u001b[0;32m/usr/local/lib/python3.8/site-packages/joblib/parallel.py\u001b[0m in \u001b[0;36mretrieve\u001b[0;34m(self)\u001b[0m\n\u001b[1;32m    931\u001b[0m             \u001b[0;32mtry\u001b[0m\u001b[0;34m:\u001b[0m\u001b[0;34m\u001b[0m\u001b[0;34m\u001b[0m\u001b[0m\n\u001b[1;32m    932\u001b[0m                 \u001b[0;32mif\u001b[0m \u001b[0mgetattr\u001b[0m\u001b[0;34m(\u001b[0m\u001b[0mself\u001b[0m\u001b[0;34m.\u001b[0m\u001b[0m_backend\u001b[0m\u001b[0;34m,\u001b[0m \u001b[0;34m'supports_timeout'\u001b[0m\u001b[0;34m,\u001b[0m \u001b[0;32mFalse\u001b[0m\u001b[0;34m)\u001b[0m\u001b[0;34m:\u001b[0m\u001b[0;34m\u001b[0m\u001b[0;34m\u001b[0m\u001b[0m\n\u001b[0;32m--> 933\u001b[0;31m                     \u001b[0mself\u001b[0m\u001b[0;34m.\u001b[0m\u001b[0m_output\u001b[0m\u001b[0;34m.\u001b[0m\u001b[0mextend\u001b[0m\u001b[0;34m(\u001b[0m\u001b[0mjob\u001b[0m\u001b[0;34m.\u001b[0m\u001b[0mget\u001b[0m\u001b[0;34m(\u001b[0m\u001b[0mtimeout\u001b[0m\u001b[0;34m=\u001b[0m\u001b[0mself\u001b[0m\u001b[0;34m.\u001b[0m\u001b[0mtimeout\u001b[0m\u001b[0;34m)\u001b[0m\u001b[0;34m)\u001b[0m\u001b[0;34m\u001b[0m\u001b[0;34m\u001b[0m\u001b[0m\n\u001b[0m\u001b[1;32m    934\u001b[0m                 \u001b[0;32melse\u001b[0m\u001b[0;34m:\u001b[0m\u001b[0;34m\u001b[0m\u001b[0;34m\u001b[0m\u001b[0m\n\u001b[1;32m    935\u001b[0m                     \u001b[0mself\u001b[0m\u001b[0;34m.\u001b[0m\u001b[0m_output\u001b[0m\u001b[0;34m.\u001b[0m\u001b[0mextend\u001b[0m\u001b[0;34m(\u001b[0m\u001b[0mjob\u001b[0m\u001b[0;34m.\u001b[0m\u001b[0mget\u001b[0m\u001b[0;34m(\u001b[0m\u001b[0;34m)\u001b[0m\u001b[0;34m)\u001b[0m\u001b[0;34m\u001b[0m\u001b[0;34m\u001b[0m\u001b[0m\n",
      "\u001b[0;32m/usr/local/lib/python3.8/site-packages/joblib/_parallel_backends.py\u001b[0m in \u001b[0;36mwrap_future_result\u001b[0;34m(future, timeout)\u001b[0m\n\u001b[1;32m    540\u001b[0m         AsyncResults.get from multiprocessing.\"\"\"\n\u001b[1;32m    541\u001b[0m         \u001b[0;32mtry\u001b[0m\u001b[0;34m:\u001b[0m\u001b[0;34m\u001b[0m\u001b[0;34m\u001b[0m\u001b[0m\n\u001b[0;32m--> 542\u001b[0;31m             \u001b[0;32mreturn\u001b[0m \u001b[0mfuture\u001b[0m\u001b[0;34m.\u001b[0m\u001b[0mresult\u001b[0m\u001b[0;34m(\u001b[0m\u001b[0mtimeout\u001b[0m\u001b[0;34m=\u001b[0m\u001b[0mtimeout\u001b[0m\u001b[0;34m)\u001b[0m\u001b[0;34m\u001b[0m\u001b[0;34m\u001b[0m\u001b[0m\n\u001b[0m\u001b[1;32m    543\u001b[0m         \u001b[0;32mexcept\u001b[0m \u001b[0mCfTimeoutError\u001b[0m \u001b[0;32mas\u001b[0m \u001b[0me\u001b[0m\u001b[0;34m:\u001b[0m\u001b[0;34m\u001b[0m\u001b[0;34m\u001b[0m\u001b[0m\n\u001b[1;32m    544\u001b[0m             \u001b[0;32mraise\u001b[0m \u001b[0mTimeoutError\u001b[0m \u001b[0;32mfrom\u001b[0m \u001b[0me\u001b[0m\u001b[0;34m\u001b[0m\u001b[0;34m\u001b[0m\u001b[0m\n",
      "\u001b[0;32m/usr/local/Cellar/python@3.8/3.8.7/Frameworks/Python.framework/Versions/3.8/lib/python3.8/concurrent/futures/_base.py\u001b[0m in \u001b[0;36mresult\u001b[0;34m(self, timeout)\u001b[0m\n\u001b[1;32m    432\u001b[0m                 \u001b[0;32mreturn\u001b[0m \u001b[0mself\u001b[0m\u001b[0;34m.\u001b[0m\u001b[0m__get_result\u001b[0m\u001b[0;34m(\u001b[0m\u001b[0;34m)\u001b[0m\u001b[0;34m\u001b[0m\u001b[0;34m\u001b[0m\u001b[0m\n\u001b[1;32m    433\u001b[0m \u001b[0;34m\u001b[0m\u001b[0m\n\u001b[0;32m--> 434\u001b[0;31m             \u001b[0mself\u001b[0m\u001b[0;34m.\u001b[0m\u001b[0m_condition\u001b[0m\u001b[0;34m.\u001b[0m\u001b[0mwait\u001b[0m\u001b[0;34m(\u001b[0m\u001b[0mtimeout\u001b[0m\u001b[0;34m)\u001b[0m\u001b[0;34m\u001b[0m\u001b[0;34m\u001b[0m\u001b[0m\n\u001b[0m\u001b[1;32m    435\u001b[0m \u001b[0;34m\u001b[0m\u001b[0m\n\u001b[1;32m    436\u001b[0m             \u001b[0;32mif\u001b[0m \u001b[0mself\u001b[0m\u001b[0;34m.\u001b[0m\u001b[0m_state\u001b[0m \u001b[0;32min\u001b[0m \u001b[0;34m[\u001b[0m\u001b[0mCANCELLED\u001b[0m\u001b[0;34m,\u001b[0m \u001b[0mCANCELLED_AND_NOTIFIED\u001b[0m\u001b[0;34m]\u001b[0m\u001b[0;34m:\u001b[0m\u001b[0;34m\u001b[0m\u001b[0;34m\u001b[0m\u001b[0m\n",
      "\u001b[0;32m/usr/local/Cellar/python@3.8/3.8.7/Frameworks/Python.framework/Versions/3.8/lib/python3.8/threading.py\u001b[0m in \u001b[0;36mwait\u001b[0;34m(self, timeout)\u001b[0m\n\u001b[1;32m    300\u001b[0m         \u001b[0;32mtry\u001b[0m\u001b[0;34m:\u001b[0m    \u001b[0;31m# restore state no matter what (e.g., KeyboardInterrupt)\u001b[0m\u001b[0;34m\u001b[0m\u001b[0;34m\u001b[0m\u001b[0m\n\u001b[1;32m    301\u001b[0m             \u001b[0;32mif\u001b[0m \u001b[0mtimeout\u001b[0m \u001b[0;32mis\u001b[0m \u001b[0;32mNone\u001b[0m\u001b[0;34m:\u001b[0m\u001b[0;34m\u001b[0m\u001b[0;34m\u001b[0m\u001b[0m\n\u001b[0;32m--> 302\u001b[0;31m                 \u001b[0mwaiter\u001b[0m\u001b[0;34m.\u001b[0m\u001b[0macquire\u001b[0m\u001b[0;34m(\u001b[0m\u001b[0;34m)\u001b[0m\u001b[0;34m\u001b[0m\u001b[0;34m\u001b[0m\u001b[0m\n\u001b[0m\u001b[1;32m    303\u001b[0m                 \u001b[0mgotit\u001b[0m \u001b[0;34m=\u001b[0m \u001b[0;32mTrue\u001b[0m\u001b[0;34m\u001b[0m\u001b[0;34m\u001b[0m\u001b[0m\n\u001b[1;32m    304\u001b[0m             \u001b[0;32melse\u001b[0m\u001b[0;34m:\u001b[0m\u001b[0;34m\u001b[0m\u001b[0;34m\u001b[0m\u001b[0m\n",
      "\u001b[0;31mKeyboardInterrupt\u001b[0m: "
     ]
    }
   ],
   "source": [
    "from joblib import Parallel, delayed  \n",
    "\n",
    "def compute_mins(i):\n",
    "    t, y = minutes_to_target(df, i, target=TARGET)\n",
    "    if y:\n",
    "        return y\n",
    "    else:\n",
    "        return 120000\n",
    "\n",
    "mins2tgt = Parallel(n_jobs=6)(delayed(compute_mins)(i) for i in tqdm(range(len(df))))\n",
    "\n",
    "df_n['mins2tgt'] = mins2tgt"
   ]
  },
  {
   "cell_type": "code",
   "execution_count": null,
   "id": "nonprofit-shade",
   "metadata": {},
   "outputs": [],
   "source": [
    "df_n.dropna(inplace=True)"
   ]
  }
 ],
 "metadata": {
  "kernelspec": {
   "display_name": "Python 3",
   "language": "python",
   "name": "python3"
  },
  "language_info": {
   "codemirror_mode": {
    "name": "ipython",
    "version": 3
   },
   "file_extension": ".py",
   "mimetype": "text/x-python",
   "name": "python",
   "nbconvert_exporter": "python",
   "pygments_lexer": "ipython3",
   "version": "3.8.7"
  }
 },
 "nbformat": 4,
 "nbformat_minor": 5
}
